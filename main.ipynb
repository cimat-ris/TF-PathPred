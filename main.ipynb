{
 "cells": [
  {
   "cell_type": "code",
   "execution_count": 10,
   "metadata": {},
   "outputs": [],
   "source": [
    "import os\n",
    "import numpy as np\n",
    "import tensorflow as tf\n",
    "\n",
    "from random import randint\n",
    "import matplotlib.pyplot as plt\n",
    "\n",
    "from crowdscan.loader.loader_eth import loadETH\n",
    "from opentraj_benchmark.trajlet import split_trajectories\n",
    "\n",
    "from tools.optimizer import CustomSchedule\n",
    "from transformer.transformer import Transformer\n",
    "from tools.trajectories import obs_pred_trajectories"
   ]
  },
  {
   "cell_type": "code",
   "execution_count": 17,
   "metadata": {},
   "outputs": [],
   "source": [
    "def create_look_ahead_mask(size):\n",
    "  mask = 1 - tf.linalg.band_part(tf.ones((size, size)), -1, 0)\n",
    "  return mask  \n",
    "\n",
    "\n",
    "def evaluate(inp, Tpred):\n",
    "    output = tf.expand_dims(inp[-1,:], 0)\n",
    "\n",
    "    for i in range(Tpred):\n",
    "        mask = create_look_ahead_mask(output.shape[0])\n",
    "        predictions = transformer(inp, output, False, mask)\n",
    "        prediction = tf.expand_dims(predictions[-1,:],0)\n",
    "        output = tf.concat([output,prediction], axis = 0)\n",
    "\n",
    "    return output"
   ]
  },
  {
   "cell_type": "code",
   "execution_count": 11,
   "metadata": {},
   "outputs": [
    {
     "name": "stdout",
     "output_type": "stream",
     "text": [
      "<crowdscan.crowd.trajdataset.TrajDataset object at 0x000002689BC825E0>\n"
     ]
    }
   ],
   "source": [
    "dataset_name = 'eth'\n",
    "\n",
    "# Load dataset\n",
    "dataset = []\n",
    "if dataset_name == 'eth':\n",
    "    # ETH\n",
    "    root = './datasets/ETH/seq_eth/obsmat.txt'\n",
    "\n",
    "    dataset = loadETH(root, title='ETH')\n",
    "\n",
    "trajectories = dataset.get_trajectories()\n",
    "\n",
    "N_t = len(trajectories)\n",
    "\n",
    "#Take out the ones that have a total length less than 8s\n",
    "short_trajs = []\n",
    "\n",
    "for i in range(N_t):\n",
    "    n = len(trajectories[i])\n",
    "    # times = trajectories[i][\"timestamp\"].to_numpy()\n",
    "    # length = times[n-1]-times[0]\n",
    "    # if length < 8:\n",
    "    #     short_trajs.append(i)\n",
    "    if n < 20:\n",
    "        short_trajs.append(i)\n",
    "\n",
    "n = len(short_trajs)\n",
    "for i in range(n):\n",
    "    del trajectories[short_trajs[n-i-1]]\n",
    "\n",
    "#Obtain trajlets from big trajectories\n",
    "# trajectories = split_trajectories(trajectories, 8, 1)\n",
    "\n",
    "\n",
    "#Number of frames in observed and predicted trajlets\n",
    "Tobs = 8 #detect_separator(trajectories,3.2)\n",
    "Tpred = 12 #len(trajectories[0])-Tobs\n",
    "\n",
    "\n",
    "#Leave just the position information\n",
    "for i in range(len(trajectories)):\n",
    "    trajectories[i] = trajectories[i][['pos_x','pos_y']]\n",
    "\n",
    "#Update the number of trajectories\n",
    "N_t = len(trajectories)\n",
    "\n",
    "#Obtain observed and predicted trajlets\n",
    "Xm, Xp = obs_pred_trajectories(trajectories,Tobs,Tpred+Tobs)\n",
    "\n",
    "Xm = tf.constant(Xm)\n",
    "Xp = tf.constant(Xp)\n",
    "\n",
    "Xm_ = []\n",
    "Xp_ = []\n",
    "for x in Xm:\n",
    "    Xm_.append(x)\n",
    "for x in Xp:\n",
    "    Xp_.append(x)\n",
    "\n",
    "Xm = Xm_\n",
    "Xp = Xp_"
   ]
  },
  {
   "cell_type": "code",
   "execution_count": 12,
   "metadata": {},
   "outputs": [],
   "source": [
    "d_model = 128\n",
    "dff = 512\n",
    "\n",
    "dropout_rate = 0.1"
   ]
  },
  {
   "cell_type": "code",
   "execution_count": 13,
   "metadata": {},
   "outputs": [
    {
     "name": "stdout",
     "output_type": "stream",
     "text": [
      "Latest checkpoint restored!!\n"
     ]
    },
    {
     "data": {
      "image/png": "[encoded data removed]",
      "text/plain": [
       "<Figure size 432x288 with 1 Axes>"
      ]
     },
     "metadata": {
      "needs_background": "light"
     },
     "output_type": "display_data"
    }
   ],
   "source": [
    " learning_rate = CustomSchedule(d_model)\n",
    "\n",
    "optimizer = tf.keras.optimizers.Adam(learning_rate, beta_1=0.9, beta_2=0.98, \n",
    "                                     epsilon=1e-9)\n",
    "\n",
    "temp_learning_rate_schedule = CustomSchedule(d_model)\n",
    "\n",
    "plt.plot(temp_learning_rate_schedule(tf.range(40000, dtype=tf.float32)))\n",
    "plt.ylabel(\"Learning Rate\")\n",
    "plt.xlabel(\"Train Step\")\n",
    "\n",
    "loss_object = tf.keras.losses.SparseCategoricalCrossentropy(\n",
    "from_logits=True, reduction='none')\n",
    "\n",
    "transformer = Transformer(d_model, dff, Tobs, Tpred, dropout_rate)\n",
    "\n",
    "checkpoint_path = \"./checkpoints/train\"\n",
    "\n",
    "ckpt = tf.train.Checkpoint(transformer=transformer,\n",
    "                           optimizer=optimizer)\n",
    "\n",
    "ckpt_manager = tf.train.CheckpointManager(ckpt, checkpoint_path, max_to_keep=5)\n",
    "\n",
    "# if a checkpoint exists, restore the latest checkpoint.\n",
    "if ckpt_manager.latest_checkpoint:\n",
    "  ckpt.restore(ckpt_manager.latest_checkpoint)\n",
    "  print ('Latest checkpoint restored!!')\n",
    "\n",
    "\n",
    "train_dataset = []\n",
    "for i in range(len(Xp)):\n",
    "    train_dataset.append((Xm[i],Xp[i]))\n",
    "\n",
    "train_loss = tf.keras.metrics.Mean(name='train_loss')\n",
    "train_accuracy = tf.keras.metrics.Mean(name='train_accuracy')"
   ]
  },
  {
   "cell_type": "code",
   "execution_count": 21,
   "metadata": {},
   "outputs": [
    {
     "data": {
      "image/png": "[encoded data removed]",
      "text/plain": [
       "<Figure size 432x288 with 1 Axes>"
      ]
     },
     "metadata": {
      "needs_background": "light"
     },
     "output_type": "display_data"
    }
   ],
   "source": [
    "s = randint(0,(len(Xm)-1))\n",
    "inp = Xm[s].numpy()\n",
    "tar = Xp[s].numpy()\n",
    "tar = np.concatenate([np.array([inp[-1]]),tar], axis = 0)\n",
    "pred = evaluate(inp, Tpred).numpy()\n",
    "plt.cla()\n",
    "plt.plot(inp[:,0],inp[:,1], color = \"red\")\n",
    "plt.scatter(inp[:,0],inp[:,1], color = \"red\")\n",
    "plt.plot(tar[:,0],tar[:,1], color = \"blue\")\n",
    "plt.scatter(tar[:,0],tar[:,1], color = \"blue\")\n",
    "plt.plot(pred[:,0],pred[:,1], color = \"green\")\n",
    "plt.scatter(pred[:,0],pred[:,1], color = \"green\")\n",
    "plt.show()"
   ]
  }
 ],
 "metadata": {
  "kernelspec": {
   "display_name": "Python 3",
   "language": "python",
   "name": "python3"
  },
  "language_info": {
   "codemirror_mode": {
    "name": "ipython",
    "version": 3
   },
   "file_extension": ".py",
   "mimetype": "text/x-python",
   "name": "python",
   "nbconvert_exporter": "python",
   "pygments_lexer": "ipython3",
   "version": "3.8.2"
  }
 },
 "nbformat": 4,
 "nbformat_minor": 4
}
