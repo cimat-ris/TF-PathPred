{
 "cells": [
  {
   "cell_type": "markdown",
   "metadata": {},
   "source": [
    "# Run the following code if working in collab"
   ]
  },
  {
   "cell_type": "code",
   "execution_count": null,
   "metadata": {},
   "outputs": [],
   "source": [
    "# Clone the entire repo.\n",
    "!git clone -l -s https://github.com/cimat-ris/TF-PathPred.git clonedrep\n",
    "\n",
    "import os\n",
    "os.chdir(\"./clonedrep\")\n",
    "\n",
    "!pip install pykalman"
   ]
  },
  {
   "cell_type": "markdown",
   "metadata": {},
   "source": [
    "# Testing the Transformer\n",
    "\n",
    "This notebook enables the testing of the prediction of the transformer model for the datasets of ETH and UCY. It also gives a visualization of such predictions, and a visualization of the attention weight matrices"
   ]
  },
  {
   "cell_type": "code",
   "execution_count": 1,
   "metadata": {},
   "outputs": [],
   "source": [
    "from ipywidgets import interact, interactive, fixed, interact_manual\n",
    "import ipywidgets as widgets\n",
    "\n",
    "import tensorflow as tf\n",
    "from test_TF import test_model, print_sol\n",
    "import matplotlib.pyplot as plt\n",
    "import numpy as np\n",
    "import os\n",
    "\n",
    "from tools.trajectories import traj_to_real_coordinates"
   ]
  },
  {
   "cell_type": "markdown",
   "metadata": {},
   "source": [
    "# Generate testing information\n",
    "\n",
    "Run the cell bellow if you wish to generate the testing information. If you only want to visualize, go on to the next section."
   ]
  },
  {
   "cell_type": "code",
   "execution_count": 2,
   "metadata": {},
   "outputs": [
    {
     "name": "stdout",
     "output_type": "stream",
     "text": [
      "Loading trajlets from:  ./generated_data/trajlets\\ETH-Univ-trl.npy\n",
      "Small trajectories: 92\n",
      "(2321, 8, 2)\n",
      "(2321, 12, 2)\n",
      "./generated_data/checkpoints/train/ETH-Univ\n",
      "Latest checkpoint restored!! ./generated_data/checkpoints/train/ETH-Univ\\ckpt-110\n",
      "Calculating predictions\n",
      "ADE: 0.58671695 FDE: 1.3588676\n"
     ]
    }
   ],
   "source": [
    "path = \"./\"\n",
    "#choose a dataset\n",
    "test_dataset = \"ETH-Univ\"\n",
    "\n",
    "test_path = path + f\"generated_data/testing_data/{test_dataset}/\"\n",
    "\n",
    "try: os.mkdir(path+\"generated_data/testing_data\")\n",
    "except: pass\n",
    "try: os.mkdir(path+f\"generated_data/testing_data/{test_dataset}\")\n",
    "except: pass\n",
    "\n",
    "ade,fde,weights,trajs,transformer = test_model([test_dataset],path,5)\n",
    "\n",
    "ade,fde = np.array(ade), np.array(fde)\n",
    "\n",
    "np.save(test_path+\"ade.npy\", ade)\n",
    "np.save(test_path+\"fde.npy\", fde)\n",
    "np.save(test_path+\"inp.npy\", trajs[0])\n",
    "np.save(test_path+\"tar.npy\", trajs[1])\n",
    "np.save(test_path+\"pred.npy\", trajs[2])"
   ]
  },
  {
   "cell_type": "code",
   "execution_count": 14,
   "metadata": {},
   "outputs": [
    {
     "data": {
      "text/plain": [
       "array([[ 0.37390298, -0.2288619 ],\n",
       "       [ 0.        ,  0.        ],\n",
       "       [-0.0871935 , -0.03051508],\n",
       "       [-0.20659758, -0.38946742],\n",
       "       [-0.45374957, -0.24956225],\n",
       "       [-0.6715732 , -0.05334945],\n",
       "       [-0.9829161 , -0.161539  ],\n",
       "       [-1.3253201 , -0.18906768],\n",
       "       [-1.7472138 , -0.28921288],\n",
       "       [-2.2055075 , -0.44761813],\n",
       "       [-2.64101   , -0.69115925],\n",
       "       [-2.9735653 , -0.9468997 ],\n",
       "       [-3.3288553 , -1.3065428 ],\n",
       "       [-3.611939  , -1.7388265 ]], dtype=float32)"
      ]
     },
     "execution_count": 14,
     "metadata": {},
     "output_type": "execute_result"
    }
   ],
   "source": [
    "trajs[1][12]"
   ]
  },
  {
   "cell_type": "code",
   "execution_count": 3,
   "metadata": {},
   "outputs": [
    {
     "name": "stdout",
     "output_type": "stream",
     "text": [
      "Model: \"transformer_cvae\"\n",
      "_________________________________________________________________\n",
      "Layer (type)                 Output Shape              Param #   \n",
      "=================================================================\n",
      "encoder (Encoder)            multiple                  545664    \n",
      "_________________________________________________________________\n",
      "cvae_attention (CVAE_attenti multiple                  52234     \n",
      "_________________________________________________________________\n",
      "decoder (Decoder)            multiple                  695040    \n",
      "_________________________________________________________________\n",
      "dense_47 (Dense)             multiple                  258       \n",
      "=================================================================\n",
      "Total params: 1,293,196\n",
      "Trainable params: 1,293,196\n",
      "Non-trainable params: 0\n",
      "_________________________________________________________________\n"
     ]
    }
   ],
   "source": [
    "transformer.summary()"
   ]
  },
  {
   "cell_type": "markdown",
   "metadata": {},
   "source": [
    "# Visualizing solution\n",
    "\n",
    "Just run the cell bellow changing the name of the dataset you wish to visualize and change the value in the input box to visualize different trajectories. The red one is the observed trajectory, the blue one is the target, and the green ones are the possible outcomes predicted. If you wish to visualize a mode in particular just add a comma and the number of mode to visualize, with no spaces. e.g. \"0,0\""
   ]
  },
  {
   "cell_type": "code",
   "execution_count": 23,
   "metadata": {},
   "outputs": [
    {
     "name": "stdout",
     "output_type": "stream",
     "text": [
      "Loading trajlets from:  ./generated_data/trajlets\\ETH-univ-trl.npy\n",
      "Small trajectories: 92\n"
     ]
    }
   ],
   "source": [
    "Tobs = 8\n",
    "Tpred = 12\n",
    "\n",
    "from tools.opentraj_benchmark.all_datasets import get_trajlets\n",
    "from tools.trajectories import obs_pred_trajectories,obs_pred_rotated_trajectories, convert_to_traj_with_rotations\n",
    "test_name = ['ETH-univ']\n",
    "trajectories = get_trajlets(\"./\",test_name)[test_name[0]][:,:,:2]\n",
    "Starts_train , Xm_test, Xp_test, dists, mtcs = obs_pred_rotated_trajectories(trajectories,Tobs,Tpred+Tobs)"
   ]
  },
  {
   "cell_type": "code",
   "execution_count": 4,
   "metadata": {},
   "outputs": [
    {
     "name": "stdout",
     "output_type": "stream",
     "text": [
      "General: ADE: 0.58671695 FDE: 1.3588676\n"
     ]
    },
    {
     "data": {
      "application/vnd.jupyter.widget-view+json": {
       "model_id": "aa9b480e94a64f6eb5e89d7eb6f7bbc9",
       "version_major": 2,
       "version_minor": 0
      },
      "text/plain": [
       "interactive(children=(Text(value='0', description='x'), Output()), _dom_classes=('widget-interact',))"
      ]
     },
     "metadata": {},
     "output_type": "display_data"
    }
   ],
   "source": [
    "path = \"./\"\n",
    "#choose a dataset\n",
    "test_dataset = \"ETH-univ\"\n",
    "\n",
    "test_path = path + f\"generated_data/testing_data/{test_dataset}/\"\n",
    "reference_path = path + f\"datasets/ETH/seq_eth/reference.png\"\n",
    "H_path = path + f\"datasets/ETH/seq_eth/H.txt\"\n",
    "\n",
    "H = np.loadtxt(H_path)\n",
    "H = np.linalg.inv(H)\n",
    "img = plt.imread(reference_path)\n",
    "\n",
    "ade = np.load(test_path+\"ade.npy\")\n",
    "fde = np.load(test_path+\"fde.npy\")\n",
    "inp = np.load(test_path+\"inp.npy\")\n",
    "tar = np.load(test_path+\"tar.npy\")\n",
    "pred = np.load(test_path+\"pred.npy\")\n",
    "\n",
    "print(\"General: ADE:\", np.mean(ade),\"FDE:\", np.mean(fde))\n",
    "\n",
    "def f(x):\n",
    "    x = x.split(',')\n",
    "    if len(x) == 1:\n",
    "        try:\n",
    "            x = int(x[0])\n",
    "        except:\n",
    "            print(\"Error: Input was not an integer\")\n",
    "            return\n",
    "\n",
    "        if x >= len(ade):\n",
    "            print(\"There aren't that many trajectories\")\n",
    "            return\n",
    "#         print_sol(inp[x],tar[x],pred[x],None)\n",
    "        a = traj_to_real_coordinates(inp[x],H)\n",
    "        b = traj_to_real_coordinates(tar[x],H)\n",
    "        c = traj_to_real_coordinates(pred[x],H)\n",
    "        print_sol(a,b,c,img)\n",
    "        \n",
    "        print(f\"trajectory {x}:\",\"ADE:\", ade[x],\"FDE:\", fde[x])\n",
    "        \n",
    "    elif len(x) == 2:\n",
    "        try:\n",
    "            k = int(x[1])\n",
    "            x = int(x[0])\n",
    "        except:\n",
    "            print(\"Error: Inputs were not integers\")\n",
    "            return\n",
    "\n",
    "        if x >= len(ade):\n",
    "            print(\"There aren't that many trajectories\")\n",
    "            return\n",
    "        #print_sol(inp[x],tar[x],pred[x][k:(k+1)],img)\n",
    "        a = inp[x]#traj_to_real_coordinates(inp[x],H)\n",
    "        b = tar[x]#traj_to_real_coordinates(tar[x],H)\n",
    "        c = pred[x][k]#traj_to_real_coordinates(pred[x][k],H)\n",
    "        print_sol(a,b,None,None)#np.array([c]),None)\n",
    "        print(f\"trajectory {x}:\",\"ADE:\", ade[x],\"FDE:\", fde[x])\n",
    "    else:\n",
    "        print(\"the format is not valid\")\n",
    "\n",
    "interact(f, x=\"0\");"
   ]
  },
  {
   "cell_type": "code",
   "execution_count": 5,
   "metadata": {},
   "outputs": [
    {
     "data": {
      "text/plain": [
       "array([[ 1.0000000e+00, -1.6870156e-18],\n",
       "       [ 7.6804924e-01, -3.6168404e-02],\n",
       "       [ 6.8319803e-01, -5.2176796e-02],\n",
       "       [ 5.3687590e-01, -4.3020580e-02],\n",
       "       [ 3.5017157e-01, -5.6467921e-02],\n",
       "       [ 2.4483772e-01,  6.4771124e-03],\n",
       "       [ 1.2285026e-01,  8.2979165e-03]], dtype=float32)"
      ]
     },
     "execution_count": 5,
     "metadata": {},
     "output_type": "execute_result"
    }
   ],
   "source": [
    "inp[0]"
   ]
  },
  {
   "cell_type": "code",
   "execution_count": 7,
   "metadata": {},
   "outputs": [
    {
     "data": {
      "text/plain": [
       "array([[ 0.12285026,  0.00829792],\n",
       "       [ 0.        ,  0.        ],\n",
       "       [-0.13646209,  0.01131812],\n",
       "       [-0.25367513,  0.02418254],\n",
       "       [-0.3715892 ,  0.02686667],\n",
       "       [-0.49097073,  0.02958424],\n",
       "       [-0.60017306,  0.02257409],\n",
       "       [-0.7002231 ,  0.02671189],\n",
       "       [-0.79009384,  0.0315993 ],\n",
       "       [-0.8933986 ,  0.0570505 ],\n",
       "       [-0.98500806,  0.06212363],\n",
       "       [-1.042929  ,  0.06932585],\n",
       "       [-1.1030437 ,  0.10870075],\n",
       "       [-1.1775117 ,  0.19050777]], dtype=float32)"
      ]
     },
     "execution_count": 7,
     "metadata": {},
     "output_type": "execute_result"
    }
   ],
   "source": [
    "tar[0]"
   ]
  },
  {
   "cell_type": "code",
   "execution_count": 6,
   "metadata": {},
   "outputs": [
    {
     "data": {
      "text/plain": [
       "array([[[ 0.12285026,  0.00829792],\n",
       "        [ 0.        ,  0.        ],\n",
       "        [-0.12279233,  0.01117741],\n",
       "        [-0.26081228,  0.00693151],\n",
       "        [-0.41017687,  0.00797362],\n",
       "        [-0.53467   ,  0.00796123],\n",
       "        [-0.64435357,  0.00701118],\n",
       "        [-0.74307019,  0.00649073],\n",
       "        [-0.86878723,  0.00361584],\n",
       "        [-0.97647029,  0.00133931],\n",
       "        [-1.08544576, -0.00273226],\n",
       "        [-1.19096804, -0.00820347],\n",
       "        [-1.27997339, -0.01881041],\n",
       "        [-1.33447945, -0.02417786]]])"
      ]
     },
     "execution_count": 6,
     "metadata": {},
     "output_type": "execute_result"
    }
   ],
   "source": [
    "pred[0]"
   ]
  }
 ],
 "metadata": {
  "kernelspec": {
   "display_name": "Python 3",
   "language": "python",
   "name": "python3"
  },
  "language_info": {
   "codemirror_mode": {
    "name": "ipython",
    "version": 3
   },
   "file_extension": ".py",
   "mimetype": "text/x-python",
   "name": "python",
   "nbconvert_exporter": "python",
   "pygments_lexer": "ipython3",
   "version": "3.8.2"
  }
 },
 "nbformat": 4,
 "nbformat_minor": 4
}
