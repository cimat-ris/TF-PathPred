{
 "cells": [
  {
   "cell_type": "markdown",
   "metadata": {},
   "source": [
    "# Run the following code if working in collab"
   ]
  },
  {
   "cell_type": "code",
   "execution_count": null,
   "metadata": {},
   "outputs": [],
   "source": [
    "# Clone the entire repo.\n",
    "!git clone -l -s https://github.com/cimat-ris/TF-PathPred.git clonedrep\n",
    "\n",
    "import os\n",
    "os.chdir(\"./clonedrep\")\n",
    "\n",
    "!pip install pykalman"
   ]
  },
  {
   "cell_type": "markdown",
   "metadata": {},
   "source": [
    "# Testing the Transformer\n",
    "\n",
    "This notebook enables the testing of the prediction of the transformer model for the datasets of ETH and UCY. It also gives a visualization of such predictions, and a visualization of the attention weight matrices"
   ]
  },
  {
   "cell_type": "code",
   "execution_count": 2,
   "metadata": {},
   "outputs": [],
   "source": [
    "from ipywidgets import interact, interactive, fixed, interact_manual\n",
    "import ipywidgets as widgets\n",
    "\n",
    "import tensorflow as tf\n",
    "from test_TF import test_model, print_sol\n",
    "import matplotlib.pyplot as plt\n",
    "import numpy as np\n",
    "import os\n",
    "\n",
    "from tools.trajectories import traj_to_real_coordinates"
   ]
  },
  {
   "cell_type": "markdown",
   "metadata": {},
   "source": [
    "# Generate testing information\n",
    "\n",
    "Run the cell bellow if you wish to generate the testing information. If you only want to visualize, go on to the next section."
   ]
  },
  {
   "cell_type": "code",
   "execution_count": 4,
   "metadata": {},
   "outputs": [
    {
     "name": "stdout",
     "output_type": "stream",
     "text": [
      "Loading trajlets from:  ./generated_data/trajlets\\ETH-hotel-trl.npy\n",
      "No model trained for this particular dataset\n"
     ]
    },
    {
     "ename": "TypeError",
     "evalue": "cannot unpack non-iterable NoneType object",
     "output_type": "error",
     "traceback": [
      "\u001b[1;31m---------------------------------------------------------------------------\u001b[0m",
      "\u001b[1;31mTypeError\u001b[0m                                 Traceback (most recent call last)",
      "\u001b[1;32m<ipython-input-4-fbc7b035a92b>\u001b[0m in \u001b[0;36m<module>\u001b[1;34m\u001b[0m\n\u001b[0;32m     10\u001b[0m \u001b[1;32mexcept\u001b[0m\u001b[1;33m:\u001b[0m \u001b[1;32mpass\u001b[0m\u001b[1;33m\u001b[0m\u001b[1;33m\u001b[0m\u001b[0m\n\u001b[0;32m     11\u001b[0m \u001b[1;33m\u001b[0m\u001b[0m\n\u001b[1;32m---> 12\u001b[1;33m \u001b[0made\u001b[0m\u001b[1;33m,\u001b[0m\u001b[0mfde\u001b[0m\u001b[1;33m,\u001b[0m\u001b[0mweights\u001b[0m\u001b[1;33m,\u001b[0m\u001b[0mtrajs\u001b[0m\u001b[1;33m,\u001b[0m\u001b[0mtransformer\u001b[0m \u001b[1;33m=\u001b[0m \u001b[0mtest_model\u001b[0m\u001b[1;33m(\u001b[0m\u001b[1;33m[\u001b[0m\u001b[0mtest_dataset\u001b[0m\u001b[1;33m]\u001b[0m\u001b[1;33m,\u001b[0m\u001b[0mpath\u001b[0m\u001b[1;33m,\u001b[0m\u001b[1;36m5\u001b[0m\u001b[1;33m)\u001b[0m\u001b[1;33m\u001b[0m\u001b[1;33m\u001b[0m\u001b[0m\n\u001b[0m\u001b[0;32m     13\u001b[0m \u001b[1;33m\u001b[0m\u001b[0m\n\u001b[0;32m     14\u001b[0m \u001b[0made\u001b[0m\u001b[1;33m,\u001b[0m\u001b[0mfde\u001b[0m \u001b[1;33m=\u001b[0m \u001b[0mnp\u001b[0m\u001b[1;33m.\u001b[0m\u001b[0marray\u001b[0m\u001b[1;33m(\u001b[0m\u001b[0made\u001b[0m\u001b[1;33m)\u001b[0m\u001b[1;33m,\u001b[0m \u001b[0mnp\u001b[0m\u001b[1;33m.\u001b[0m\u001b[0marray\u001b[0m\u001b[1;33m(\u001b[0m\u001b[0mfde\u001b[0m\u001b[1;33m)\u001b[0m\u001b[1;33m\u001b[0m\u001b[1;33m\u001b[0m\u001b[0m\n",
      "\u001b[1;31mTypeError\u001b[0m: cannot unpack non-iterable NoneType object"
     ]
    }
   ],
   "source": [
    "path = \"./\"\n",
    "#choose a dataset\n",
    "test_dataset = \"ETH-hotel\"\n",
    "\n",
    "test_path = path + f\"generated_data/testing_data/{test_dataset}/\"\n",
    "\n",
    "try: os.mkdir(path+\"generated_data/testing_data\")\n",
    "except: pass\n",
    "try: os.mkdir(path+f\"generated_data/testing_data/{test_dataset}\")\n",
    "except: pass\n",
    "\n",
    "ade,fde,weights,trajs,transformer = test_model([test_dataset],path,5)\n",
    "\n",
    "ade,fde = np.array(ade), np.array(fde)\n",
    "\n",
    "np.save(test_path+\"ade.npy\", ade)\n",
    "np.save(test_path+\"fde.npy\", fde)\n",
    "np.save(test_path+\"inp.npy\", trajs[0])\n",
    "np.save(test_path+\"tar.npy\", trajs[1])\n",
    "np.save(test_path+\"pred.npy\", trajs[2])"
   ]
  },
  {
   "cell_type": "code",
   "execution_count": 3,
   "metadata": {},
   "outputs": [
    {
     "name": "stdout",
     "output_type": "stream",
     "text": [
      "Model: \"transformer\"\n",
      "_________________________________________________________________\n",
      "Layer (type)                 Output Shape              Param #   \n",
      "=================================================================\n",
      "encoder (Encoder)            multiple                  299136    \n",
      "_________________________________________________________________\n",
      "decoder (Decoder)            multiple                  597888    \n",
      "_________________________________________________________________\n",
      "multi_modal (multi_modal)    multiple                  5160      \n",
      "=================================================================\n",
      "Total params: 902,184\n",
      "Trainable params: 902,184\n",
      "Non-trainable params: 0\n",
      "_________________________________________________________________\n"
     ]
    }
   ],
   "source": [
    "transformer.summary()"
   ]
  },
  {
   "cell_type": "markdown",
   "metadata": {},
   "source": [
    "# Visualizing solution\n",
    "\n",
    "Just run the cell bellow changing the name of the dataset you wish to visualize and change the value in the input box to visualize different trajectories. The red one is the observed trajectory, the blue one is the target, and the green ones are the possible outcomes predicted. If you wish to visualize a mode in particular just add a comma and the number of mode to visualize, with no spaces. e.g. \"0,0\""
   ]
  },
  {
   "cell_type": "code",
   "execution_count": 3,
   "metadata": {},
   "outputs": [
    {
     "name": "stdout",
     "output_type": "stream",
     "text": [
      "General: ADE: 0.8959661707049471 FDE: 1.18791418954522\n"
     ]
    },
    {
     "data": {
      "application/vnd.jupyter.widget-view+json": {
       "model_id": "3bab6bff976c41688a11680d44f3dd5e",
       "version_major": 2,
       "version_minor": 0
      },
      "text/plain": [
       "interactive(children=(Text(value='0', description='x'), Output()), _dom_classes=('widget-interact',))"
      ]
     },
     "metadata": {},
     "output_type": "display_data"
    }
   ],
   "source": [
    "path = \"./\"\n",
    "#choose a dataset\n",
    "test_dataset = \"ETH-univ\"\n",
    "\n",
    "test_path = path + f\"testing_data/{test_dataset}/\"\n",
    "reference_path = path + f\"datasets/ETH/seq_eth/reference.png\"\n",
    "H_path = path + f\"datasets/ETH/seq_eth/H.txt\"\n",
    "\n",
    "H = np.loadtxt(H_path)\n",
    "H = np.linalg.inv(H)\n",
    "img = plt.imread(reference_path)\n",
    "\n",
    "ade = np.load(test_path+\"ade.npy\")\n",
    "fde = np.load(test_path+\"fde.npy\")\n",
    "inp = np.load(test_path+\"inp.npy\")\n",
    "tar = np.load(test_path+\"tar.npy\")\n",
    "pred = np.load(test_path+\"pred.npy\")\n",
    "\n",
    "print(\"General: ADE:\", np.mean(ade),\"FDE:\", np.mean(fde))\n",
    "\n",
    "def f(x):\n",
    "    x = x.split(',')\n",
    "    if len(x) == 1:\n",
    "        try:\n",
    "            x = int(x[0])\n",
    "        except:\n",
    "            print(\"Error: Input was not an integer\")\n",
    "            return\n",
    "\n",
    "        if x >= len(ade):\n",
    "            print(\"There aren't that many trajectories\")\n",
    "            return\n",
    "        #print_sol(inp[x],tar[x],pred[x],None)\n",
    "        a = traj_to_real_coordinates(inp[x],H)\n",
    "        b = traj_to_real_coordinates(tar[x],H)\n",
    "        c = traj_to_real_coordinates(pred[x],H)\n",
    "        print_sol(a,b,c,img)\n",
    "        \n",
    "        print(f\"trajectory {x}:\",\"ADE:\", ade[x],\"FDE:\", fde[x])\n",
    "        \n",
    "    elif len(x) == 2:\n",
    "        try:\n",
    "            k = int(x[1])\n",
    "            x = int(x[0])\n",
    "        except:\n",
    "            print(\"Error: Inputs were not integers\")\n",
    "            return\n",
    "\n",
    "        if x >= len(ade):\n",
    "            print(\"There aren't that many trajectories\")\n",
    "            return\n",
    "        #print_sol(inp[x],tar[x],pred[x][k:(k+1)],img)\n",
    "        a = inp[x]#traj_to_real_coordinates(inp[x],H)\n",
    "        b = tar[x]#traj_to_real_coordinates(tar[x],H)\n",
    "        c = pred[x][k]#traj_to_real_coordinates(pred[x][k],H)\n",
    "        print_sol(a,b,None,None)#np.array([c]),None)\n",
    "        print(f\"trajectory {x}:\",\"ADE:\", ade[x],\"FDE:\", fde[x])\n",
    "    else:\n",
    "        print(\"the format is not valid\")\n",
    "\n",
    "interact(f, x=\"0\");"
   ]
  }
 ],
 "metadata": {
  "kernelspec": {
   "display_name": "Python 3",
   "language": "python",
   "name": "python3"
  },
  "language_info": {
   "codemirror_mode": {
    "name": "ipython",
    "version": 3
   },
   "file_extension": ".py",
   "mimetype": "text/x-python",
   "name": "python",
   "nbconvert_exporter": "python",
   "pygments_lexer": "ipython3",
   "version": "3.8.2"
  }
 },
 "nbformat": 4,
 "nbformat_minor": 4
}
