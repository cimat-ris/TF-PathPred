{
 "cells": [
  {
   "cell_type": "markdown",
   "metadata": {},
   "source": [
    "# Run the following code if working in collab"
   ]
  },
  {
   "cell_type": "code",
   "execution_count": null,
   "metadata": {},
   "outputs": [],
   "source": [
    "# Clone the entire repo.\n",
    "!git clone -l -s https://github.com/cimat-ris/TF-PathPred.git clonedrep\n",
    "\n",
    "import os\n",
    "os.chdir(\"./clonedrep\")\n",
    "\n",
    "!pip install pykalman"
   ]
  },
  {
   "cell_type": "markdown",
   "metadata": {},
   "source": [
    "# Testing the Transformer\n",
    "\n",
    "This notebook enables the testing of the prediction of the transformer model for the datasets of ETH and UCY. It also gives a visualization of such predictions, and a visualization of the attention weight matrices"
   ]
  },
  {
   "cell_type": "code",
   "execution_count": 1,
   "metadata": {},
   "outputs": [],
   "source": [
    "from ipywidgets import interact, interactive, fixed, interact_manual\n",
    "import ipywidgets as widgets\n",
    "\n",
    "import tensorflow as tf\n",
    "from test_TF import test_model, print_sol\n",
    "import matplotlib.pyplot as plt\n",
    "import numpy as np\n",
    "import os\n",
    "\n",
    "from tools.trajectories import traj_to_real_coordinates"
   ]
  },
  {
   "cell_type": "markdown",
   "metadata": {},
   "source": [
    "# Generate testing information\n",
    "\n",
    "Run the cell bellow if you wish to generate the testing information. If you only want to visualize, go on to the next section."
   ]
  },
  {
   "cell_type": "code",
   "execution_count": 4,
   "metadata": {},
   "outputs": [
    {
     "name": "stdout",
     "output_type": "stream",
     "text": [
      "Loading trajlets from:  ./trajlets\\UCY-univ3-trl.npy\n",
      "Latest checkpoint restored!!\n",
      "calculating predictions\n",
      "0, 1, 2, 3, 4, 5, 6, 7, 8, 9, 10, 11, 12, 13, 14, 15, 16, 17, 18, 19, 20, 21, 22, 23, 24, 25, 26, 27, 28, 29, 30, 31, 32, 33, 34, 35, 36, 37, 38, 39, 40, 41, 42, 43, 44, 45, 46, 47, 48, 49, 50, 51, 52, 53, 54, 55, 56, 57, 58, 59, 60, 61, 62, 63, 64, 65, 66, 67, 68, 69, 70, 71, 72, 73, 74, 75, 76, 77, 78, 79, 80, 81, 82, 83, 84, 85, 86, 87, 88, 89, 90, 91, 92, 93, 94, 95, 96, 97, 98, 99, 100, 101, 102, 103, 104, 105, 106, 107, 108, 109, 110, 111, 112, 113, 114, 115, 116, 117, 118, 119, 120, 121, 122, 123, 124, 125, 126, 127, 128, 129, 130, 131, 132, 133, 134, 135, 136, 137, 138, 139, 140, 141, 142, 143, 144, 145, 146, 147, 148, 149, 150, 151, 152, 153, 154, 155, 156, 157, 158, 159, 160, 161, 162, 163, 164, 165, 166, 167, 168, 169, 170, 171, 172, 173, 174, 175, 176, 177, 178, 179, 180, 181, 182, 183, 184, 185, 186, 187, 188, 189, 190, 191, 192, 193, 194, 195, 196, 197, 198, 199, 200, 201, 202, 203, 204, 205, 206, 207, 208, 209, 210, 211, 212, 213, 214, 215, 216, 217, 218, 219, 220, 221, 222, 223, 224, 225, 226, 227, 228, 229, 230, 231, 232, 233, 234, 235, 236, 237, 238, 239, 240, 241, 242, 243, 244, 245, 246, 247, 248, 249, 250, 251, 252, 253, 254, 255, 256, 257, 258, 259, 260, 261, 262, 263, 264, 265, 266, 267, 268, 269, 270, 271, 272, 273, 274, 275, 276, 277, 278, 279, 280, 281, 282, 283, 284, 285, 286, 287, 288, 289, 290, 291, 292, 293, 294, 295, 296, 297, 298, 299, 300, 301, 302, 303, 304, 305, 306, 307, 308, 309, 310, 311, 312, 313, 314, 315, 316, 317, 318, 319, 320, 321, 322, 323, 324, 325, 326, 327, 328, 329, 330, 331, 332, 333, 334, 335, 336, 337, 338, 339, 340, 341, 342, 343, 344, 345, 346, 347, 348, 349, 350, 351, 352, 353, 354, 355, 356, 357, 358, 359, 360, 361, 362, 363, 364, 365, 366, 367, 368, 369, 370, 371, 372, 373, 374, 375, 376, 377, 378, 379, 380, 381, 382, 383, 384, 385, 386, 387, 388, 389, 390, 391, 392, 393, 394, 395, 396, 397, 398, 399, 400, 401, 402, 403, 404, 405, 406, 407, 408, 409, 410, 411, 412, 413, 414, 415, 416, 417, 418, 419, 420, 421, 422, 423, 424, 425, 426, 427, 428, 429, 430, 431, 432, 433, 434, 435, 436, 437, 438, 439, 440, 441, 442, 443, 444, 445, 446, 447, 448, 449, 450, 451, 452, 453, 454, 455, 456, 457, 458, 459, 460, 461, 462, 463, 464, 465, 466, 467, 468, 469, 470, 471, 472, 473, 474, 475, 476, 477, 478, 479, 480, 481, 482, 483, 484, 485, 486, 487, 488, 489, 490, 491, 492, 493, 494, 495, 496, 497, 498, 499, 500, 501, 502, 503, 504, 505, 506, 507, 508, 509, 510, 511, 512, 513, 514, 515, 516, 517, 518, 519, 520, 521, 522, 523, 524, 525, 526, 527, 528, 529, 530, 531, 532, 533, 534, 535, 536, 537, 538, 539, 540, 541, 542, 543, 544, 545, 546, 547, 548, 549, 550, 551, 552, 553, 554, 555, 556, 557, 558, 559, 560, 561, 562, 563, 564, 565, 566, 567, 568, 569, 570, 571, 572, 573, 574, 575, 576, 577, 578, 579, 580, 581, 582, 583, 584, 585, 586, 587, 588, 589, 590, 591, 592, 593, 594, 595, 596, 597, 598, 599, 600, 601, 602, 603, 604, 605, 606, 607, 608, 609, 610, 611, 612, 613, 614, 615, 616, 617, 618, 619, 620, 621, 622, 623, 624, 625, 626, 627, 628, 629, 630, 631, 632, 633, 634, 635, 636, 637, 638, 639, 640, 641, 642, 643, 644, 645, 646, 647, 648, 649, 650, 651, 652, 653, 654, 655, 656, 657, 658, 659, 660, 661, 662, 663, 664, 665, 666, 667, 668, 669, 670, 671, 672, 673, 674, 675, 676, 677, 678, 679, 680, 681, 682, 683, 684, 685, 686, 687, 688, 689, 690, 691, 692, 693, 694, 695, 696, 697, 698, 699, 700, 701, 702, 703, 704, 705, 706, 707, 708, 709, 710, 711, 712, 713, 714, 715, 716, 717, 718, 719, 720, 721, 722, 723, 724, 725, 726, 727, 728, 729, 730, 731, 732, 733, 734, 735, 736, 737, 738, 739, 740, 741, 742, 743, 744, 745, 746, 747, 748, ADE: 0.5219761383787876 FDE: 0.9102589186093759\n"
     ]
    }
   ],
   "source": [
    "path = \"./\"\n",
    "#choose a dataset\n",
    "test_dataset = \"UCY-univ3\"\n",
    "\n",
    "test_path = path + f\"testing_data/{test_dataset}/\"\n",
    "\n",
    "try: os.mkdir(path+\"testing_data\")\n",
    "except: pass\n",
    "try: os.mkdir(path+f\"testing_data/{test_dataset}\")\n",
    "except: pass\n",
    "\n",
    "ade,fde,weights,trajs,transformer = test_model([test_dataset],path)\n",
    "\n",
    "ade,fde = np.array(ade), np.array(fde)\n",
    "\n",
    "np.save(test_path+\"ade.npy\", ade)\n",
    "np.save(test_path+\"fde.npy\", fde)\n",
    "np.save(test_path+\"inp.npy\", trajs[0])\n",
    "np.save(test_path+\"tar.npy\", trajs[1])\n",
    "np.save(test_path+\"pred.npy\", trajs[2])"
   ]
  },
  {
   "cell_type": "code",
   "execution_count": 3,
   "metadata": {},
   "outputs": [
    {
     "name": "stdout",
     "output_type": "stream",
     "text": [
      "Model: \"transformer\"\n",
      "_________________________________________________________________\n",
      "Layer (type)                 Output Shape              Param #   \n",
      "=================================================================\n",
      "encoder (Encoder)            multiple                  299136    \n",
      "_________________________________________________________________\n",
      "decoder (Decoder)            multiple                  597888    \n",
      "_________________________________________________________________\n",
      "multi_modal (multi_modal)    multiple                  5160      \n",
      "=================================================================\n",
      "Total params: 902,184\n",
      "Trainable params: 902,184\n",
      "Non-trainable params: 0\n",
      "_________________________________________________________________\n"
     ]
    }
   ],
   "source": [
    "transformer.summary()"
   ]
  },
  {
   "cell_type": "markdown",
   "metadata": {},
   "source": [
    "# Visualizing solution\n",
    "\n",
    "Just run the cell bellow changing the name of the dataset you wish to visualize and change the value in the input box to visualize different trajectories. The red one is the observed trajectory, the blue one is the target, and the green ones are the possible outcomes predicted. If you wish to visualize a mode in particular just add a comma and the number of mode to visualize, with no spaces. e.g. \"0,0\""
   ]
  },
  {
   "cell_type": "code",
   "execution_count": 10,
   "metadata": {},
   "outputs": [
    {
     "name": "stdout",
     "output_type": "stream",
     "text": [
      "General: ADE: 0.5219761383787876 FDE: 0.9102589186093759\n"
     ]
    },
    {
     "data": {
      "application/vnd.jupyter.widget-view+json": {
       "model_id": "9924493f7e604af787ce064efae62094",
       "version_major": 2,
       "version_minor": 0
      },
      "text/plain": [
       "interactive(children=(Text(value='0', description='x'), Output()), _dom_classes=('widget-interact',))"
      ]
     },
     "metadata": {},
     "output_type": "display_data"
    },
    {
     "data": {
      "image/png": "[encoded data removed]",
      "text/plain": [
       "<Figure size 720x720 with 1 Axes>"
      ]
     },
     "metadata": {
      "needs_background": "light"
     },
     "output_type": "display_data"
    }
   ],
   "source": [
    "path = \"./\"\n",
    "#choose a dataset\n",
    "test_dataset = \"UCY-univ3\"\n",
    "\n",
    "test_path = path + f\"testing_data/{test_dataset}/\"\n",
    "reference_path = path + f\"datasets/ETH/seq_eth/reference.png\"\n",
    "H_path = path + f\"datasets/ETH/seq_eth/H.txt\"\n",
    "\n",
    "H = np.loadtxt(H_path)\n",
    "H = np.linalg.inv(H)\n",
    "img = plt.imread(reference_path)\n",
    "\n",
    "ade = np.load(test_path+\"ade.npy\")\n",
    "fde = np.load(test_path+\"fde.npy\")\n",
    "inp = np.load(test_path+\"inp.npy\")\n",
    "tar = np.load(test_path+\"tar.npy\")\n",
    "pred = np.load(test_path+\"pred.npy\")\n",
    "\n",
    "print(\"General: ADE:\", np.mean(ade),\"FDE:\", np.mean(fde))\n",
    "\n",
    "def f(x):\n",
    "    x = x.split(',')\n",
    "    if len(x) == 1:\n",
    "        try:\n",
    "            x = int(x[0])\n",
    "        except:\n",
    "            print(\"Error: Input was not an integer\")\n",
    "            return\n",
    "\n",
    "        if x >= len(ade):\n",
    "            print(\"There aren't that many trajectories\")\n",
    "            return\n",
    "        #print_sol(inp[x],tar[x],pred[x],None)\n",
    "        a = traj_to_real_coordinates(inp[x],H)\n",
    "        b = traj_to_real_coordinates(tar[x],H)\n",
    "        c = traj_to_real_coordinates(pred[x],H)\n",
    "        print_sol(a,b,c,None)\n",
    "        \n",
    "        print(f\"trajectory {x}:\",\"ADE:\", ade[x],\"FDE:\", fde[x])\n",
    "        \n",
    "    elif len(x) == 2:\n",
    "        try:\n",
    "            k = int(x[1])\n",
    "            x = int(x[0])\n",
    "        except:\n",
    "            print(\"Error: Inputs were not integers\")\n",
    "            return\n",
    "\n",
    "        if x >= len(ade):\n",
    "            print(\"There aren't that many trajectories\")\n",
    "            return\n",
    "        #print_sol(inp[x],tar[x],pred[x][k:(k+1)],img)\n",
    "        a = inp[x]#traj_to_real_coordinates(inp[x],H)\n",
    "        b = tar[x]#traj_to_real_coordinates(tar[x],H)\n",
    "        c = pred[x][k]#traj_to_real_coordinates(pred[x][k],H)\n",
    "        print_sol(a,b,None,None)#np.array([c]),None)\n",
    "        print(f\"trajectory {x}:\",\"ADE:\", ade[x],\"FDE:\", fde[x])\n",
    "    else:\n",
    "        print(\"the format is not valid\")\n",
    "\n",
    "interact(f, x=\"0\");"
   ]
  }
 ],
 "metadata": {
  "kernelspec": {
   "display_name": "Python 3",
   "language": "python",
   "name": "python3"
  },
  "language_info": {
   "codemirror_mode": {
    "name": "ipython",
    "version": 3
   },
   "file_extension": ".py",
   "mimetype": "text/x-python",
   "name": "python",
   "nbconvert_exporter": "python",
   "pygments_lexer": "ipython3",
   "version": "3.8.2"
  }
 },
 "nbformat": 4,
 "nbformat_minor": 4
}
