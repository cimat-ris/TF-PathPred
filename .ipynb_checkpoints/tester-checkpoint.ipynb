{
 "cells": [
  {
   "cell_type": "markdown",
   "metadata": {},
   "source": [
    "# Run the following code if working in collab"
   ]
  },
  {
   "cell_type": "code",
   "execution_count": null,
   "metadata": {},
   "outputs": [],
   "source": [
    "# Clone the entire repo.\n",
    "!git clone -l -s https://github.com/cimat-ris/TF-PathPred.git clonedrep\n",
    "\n",
    "import os\n",
    "os.chdir(\"./clonedrep\")\n",
    "\n",
    "!pip install pykalman"
   ]
  },
  {
   "cell_type": "markdown",
   "metadata": {},
   "source": [
    "# Testing the Transformer\n",
    "\n",
    "This notebook enables the testing of the prediction of the transformer model for the datasets of ETH and UCY. It also gives a visualization of such predictions, and a visualization of the attention weight matrices"
   ]
  },
  {
   "cell_type": "code",
   "execution_count": 1,
   "metadata": {},
   "outputs": [],
   "source": [
    "from ipywidgets import interact, interactive, fixed, interact_manual\n",
    "import ipywidgets as widgets\n",
    "\n",
    "import tensorflow as tf\n",
    "from test_TF import test_model, print_sol\n",
    "import matplotlib.pyplot as plt\n",
    "import numpy as np\n",
    "import os"
   ]
  },
  {
   "cell_type": "markdown",
   "metadata": {},
   "source": [
    "# Generate testing information\n",
    "\n",
    "Run the cell bellow if you wish to generate the testing information. If you only want to visualize, go on to the next section."
   ]
  },
  {
   "cell_type": "code",
   "execution_count": 2,
   "metadata": {},
   "outputs": [
    {
     "name": "stdout",
     "output_type": "stream",
     "text": [
      "loading trajlets from:  ./trajlets\\ETH-hotel-trl.npy\n",
      "Latest checkpoint restored!!\n",
      "calculating predictions\n",
      "0, 1, 2, 3, 4, 5, 6, 7, 8, 9, 10, 11, 12, 13, 14, 15, 16, 17, 18, 19, 20, 21, 22, 23, 24, 25, 26, 27, 28, 29, 30, 31, 32, 33, 34, 35, 36, 37, 38, 39, 40, 41, 42, 43, 44, 45, 46, 47, 48, 49, 50, 51, 52, 53, 54, 55, 56, 57, 58, 59, 60, 61, 62, 63, 64, 65, 66, 67, 68, 69, 70, 71, 72, 73, 74, ADE: 1.700885861878435 FDE: 1.987742307028067\n"
     ]
    }
   ],
   "source": [
    "path = \"./\"\n",
    "#choose a dataset\n",
    "test_dataset = [\"ETH-hotel\"]\n",
    "\n",
    "test_path = path + f\"testing_data/{test_dataset[0]}/\"\n",
    "\n",
    "try: os.mkdir(path+\"testing_data\")\n",
    "except: pass\n",
    "try: os.mkdir(path+f\"testing_data/{test_dataset[0]}\")\n",
    "except: pass\n",
    "\n",
    "ade,fde,weights,trajs,transformer = test_model(test_dataset,path)\n",
    "\n",
    "ade,fde = np.array(ade), np.array(fde)\n",
    "\n",
    "np.save(test_path+\"ade.npy\", ade)\n",
    "np.save(test_path+\"fde.npy\", fde)\n",
    "np.save(test_path+\"inp.npy\", trajs[0])\n",
    "np.save(test_path+\"tar.npy\", trajs[1])\n",
    "np.save(test_path+\"pred.npy\", trajs[2])"
   ]
  },
  {
   "cell_type": "markdown",
   "metadata": {},
   "source": [
    "# Visualizing solution\n",
    "\n",
    "Just run the cell bellow changing the name of the dataset you wish to visualize and change the value in the input box to visualize different trajectories. The red one is the observed trajectory, the blue one is the target, and the green ones are the possible outcomes predicted. If you wish to visualize a mode in particular just add a comma and the number of mode to visualize, with no spaces. e.g. \"0,0\""
   ]
  },
  {
   "cell_type": "code",
   "execution_count": 4,
   "metadata": {},
   "outputs": [
    {
     "name": "stdout",
     "output_type": "stream",
     "text": [
      "General: ADE: 1.700885861878435 FDE: 1.987742307028067\n"
     ]
    },
    {
     "data": {
      "application/vnd.jupyter.widget-view+json": {
       "model_id": "497237ae7de44e8fb1611094e79e06da",
       "version_major": 2,
       "version_minor": 0
      },
      "text/plain": [
       "interactive(children=(Text(value='0', description='x'), Output()), _dom_classes=('widget-interact',))"
      ]
     },
     "metadata": {},
     "output_type": "display_data"
    }
   ],
   "source": [
    "path = \"./\"\n",
    "#choose a dataset\n",
    "test_dataset = [\"ETH-hotel\"]\n",
    "\n",
    "test_path = path + f\"testing_data/{test_dataset[0]}/\"\n",
    "\n",
    "ade = np.load(test_path+\"ade.npy\")\n",
    "fde = np.load(test_path+\"fde.npy\")\n",
    "inp = np.load(test_path+\"inp.npy\")\n",
    "tar = np.load(test_path+\"tar.npy\")\n",
    "pred = np.load(test_path+\"pred.npy\")\n",
    "\n",
    "print(\"General: ADE:\", np.mean(ade),\"FDE:\", np.mean(fde))\n",
    "\n",
    "def f(x):\n",
    "    x = x.split(',')\n",
    "    if len(x) == 1:\n",
    "        try:\n",
    "            x = int(x[0])\n",
    "        except:\n",
    "            print(\"Error: Input was not an integer\")\n",
    "            return\n",
    "\n",
    "        if x >= len(ade):\n",
    "            print(\"There aren't that many trajectories\")\n",
    "            return\n",
    "        print_sol(inp[x],tar[x],pred[x])    \n",
    "        print(f\"trajectory {x}:\",\"ADE:\", ade[x],\"FDE:\", fde[x])\n",
    "        \n",
    "    elif len(x) == 2:\n",
    "        try:\n",
    "            k = int(x[1])\n",
    "            x = int(x[0])\n",
    "        except:\n",
    "            print(\"Error: Inputs were not integers\")\n",
    "            return\n",
    "\n",
    "        if x >= len(ade):\n",
    "            print(\"There aren't that many trajectories\")\n",
    "            return\n",
    "        for i in range(len(pred)):\n",
    "            1#plt.plot(pred[i,:,0],pred[i,:,1], color = \"white\")\n",
    "        print_sol(inp[x],tar[x],pred[x][k:(k+1)])\n",
    "        print(f\"trajectory {x}:\",\"ADE:\", ade[x],\"FDE:\", fde[x])\n",
    "    else:\n",
    "        print(\"the format is not valid\")\n",
    "\n",
    "interact(f, x=\"0\");"
   ]
  }
 ],
 "metadata": {
  "kernelspec": {
   "display_name": "Python 3",
   "language": "python",
   "name": "python3"
  },
  "language_info": {
   "codemirror_mode": {
    "name": "ipython",
    "version": 3
   },
   "file_extension": ".py",
   "mimetype": "text/x-python",
   "name": "python",
   "nbconvert_exporter": "python",
   "pygments_lexer": "ipython3",
   "version": "3.8.2"
  }
 },
 "nbformat": 4,
 "nbformat_minor": 4
}
